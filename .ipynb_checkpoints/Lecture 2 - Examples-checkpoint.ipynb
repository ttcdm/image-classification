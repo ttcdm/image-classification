{
 "cells": [
  {
   "cell_type": "markdown",
   "id": "52f35ca8-b068-4e52-8bb6-cb50bc006e3d",
   "metadata": {},
   "source": [
    "## Example of implicit type conversion\n"
   ]
  },
  {
   "cell_type": "code",
   "execution_count": 1,
   "id": "b1ec951f-3fd6-4542-9119-5054840d1826",
   "metadata": {},
   "outputs": [
    {
     "name": "stdout",
     "output_type": "stream",
     "text": [
      "7.5\n",
      "<class 'float'>\n"
     ]
    }
   ],
   "source": [
    "# Adding an integer and a float\n",
    "\n",
    "integer_value = 5    # Integer type\n",
    "float_value = 2.5    # Float type\n",
    "\n",
    "# Python automatically converts integer_value to float\n",
    "result = integer_value + float_value\n",
    "\n",
    "# The result is a float\n",
    "print(result)        # Output: 7.5\n",
    "print(type(result))  # Output: <class 'float'>\n",
    "\n"
   ]
  },
  {
   "cell_type": "markdown",
   "id": "695ee696-5864-44bd-8eff-cebf9ec3869b",
   "metadata": {},
   "source": [
    "## If/else statements"
   ]
  },
  {
   "cell_type": "code",
   "execution_count": 4,
   "id": "d0fe47ad-23a5-4da0-a486-21b34b4f946c",
   "metadata": {},
   "outputs": [
    {
     "name": "stdout",
     "output_type": "stream",
     "text": [
      "Positive\n"
     ]
    }
   ],
   "source": [
    "x=30\n",
    "\n",
    "if x > 0:\n",
    "    print(\"Positive\")\n",
    "elif x < 0:\n",
    "    print(\"Negative\")\n",
    "else:\n",
    "    print(\"Zero\")\n"
   ]
  },
  {
   "cell_type": "markdown",
   "id": "00837e97-d360-46b4-94f5-ba6f393600d7",
   "metadata": {},
   "source": [
    "## For statement"
   ]
  },
  {
   "cell_type": "code",
   "execution_count": 5,
   "id": "34d69573-9f35-4202-9e90-14aee71d5a78",
   "metadata": {},
   "outputs": [
    {
     "name": "stdout",
     "output_type": "stream",
     "text": [
      "0\n",
      "1\n",
      "2\n",
      "3\n",
      "4\n"
     ]
    }
   ],
   "source": [
    "for i in range(5):\n",
    "    print(i)"
   ]
  },
  {
   "cell_type": "markdown",
   "id": "8771bc15-1921-4a32-bb6d-cae1033808e9",
   "metadata": {},
   "source": [
    "## While loop"
   ]
  },
  {
   "cell_type": "code",
   "execution_count": 7,
   "id": "067e5ea1-4906-4cb9-86c7-526e7a2d5964",
   "metadata": {},
   "outputs": [
    {
     "name": "stdout",
     "output_type": "stream",
     "text": [
      "10\n",
      "9\n",
      "8\n",
      "7\n",
      "6\n",
      "5\n",
      "4\n",
      "3\n",
      "2\n",
      "1\n"
     ]
    }
   ],
   "source": [
    "x=10\n",
    "while x > 0:\n",
    "    print(x)\n",
    "    x -= 1\n"
   ]
  },
  {
   "cell_type": "markdown",
   "id": "b0eb4330-4f37-4ecc-9701-4e797ef789b0",
   "metadata": {},
   "source": [
    "## ChatGPT example"
   ]
  },
  {
   "cell_type": "code",
   "execution_count": 8,
   "id": "a4667343-0de7-402f-a7ea-695f2cfdf0ec",
   "metadata": {},
   "outputs": [
    {
     "data": {
      "image/png": "[encoded data removed]",
      "text/plain": [
       "<Figure size 640x480 with 1 Axes>"
      ]
     },
     "metadata": {},
     "output_type": "display_data"
    }
   ],
   "source": [
    "import matplotlib.pyplot as plt\n",
    "\n",
    "# Sample data\n",
    "x = [1, 2, 3, 4, 5]\n",
    "y = [2, 3, 5, 7, 11]\n",
    "\n",
    "# Create a plot with a specific color\n",
    "line, = plt.plot(x, y, color='blue')  # Initial color set to blue\n",
    "\n",
    "# Change the line color to black\n",
    "line.set_color('black')\n",
    "\n",
    "# Add labels and title\n",
    "plt.xlabel('X-axis')\n",
    "plt.ylabel('Y-axis')\n",
    "plt.title('Sample Plot')\n",
    "\n",
    "# Display the plot\n",
    "plt.show()\n"
   ]
  },
  {
   "cell_type": "markdown",
   "id": "fc57c925-ceba-4406-b92e-8b04e3d95e9e",
   "metadata": {},
   "source": [
    "## Example buggy code 1 "
   ]
  },
  {
   "cell_type": "code",
   "execution_count": 9,
   "id": "2ddc3eae-6ddc-4d36-a796-731c8916c511",
   "metadata": {},
   "outputs": [
    {
     "ename": "TypeError",
     "evalue": "can only concatenate str (not \"int\") to str",
     "output_type": "error",
     "traceback": [
      "\u001b[0;31m---------------------------------------------------------------------------\u001b[0m",
      "\u001b[0;31mTypeError\u001b[0m                                 Traceback (most recent call last)",
      "Cell \u001b[0;32mIn[9], line 4\u001b[0m\n\u001b[1;32m      1\u001b[0m \u001b[38;5;28;01mdef\u001b[39;00m \u001b[38;5;21madd_numbers\u001b[39m(a, b):\n\u001b[1;32m      2\u001b[0m     \u001b[38;5;28;01mreturn\u001b[39;00m a \u001b[38;5;241m+\u001b[39m b\n\u001b[0;32m----> 4\u001b[0m \u001b[43madd_numbers\u001b[49m\u001b[43m(\u001b[49m\u001b[38;5;124;43m\"\u001b[39;49m\u001b[38;5;124;43m10\u001b[39;49m\u001b[38;5;124;43m\"\u001b[39;49m\u001b[43m,\u001b[49m\u001b[43m \u001b[49m\u001b[38;5;241;43m2\u001b[39;49m\u001b[43m)\u001b[49m\n",
      "Cell \u001b[0;32mIn[9], line 2\u001b[0m, in \u001b[0;36madd_numbers\u001b[0;34m(a, b)\u001b[0m\n\u001b[1;32m      1\u001b[0m \u001b[38;5;28;01mdef\u001b[39;00m \u001b[38;5;21madd_numbers\u001b[39m(a, b):\n\u001b[0;32m----> 2\u001b[0m     \u001b[38;5;28;01mreturn\u001b[39;00m \u001b[43ma\u001b[49m\u001b[43m \u001b[49m\u001b[38;5;241;43m+\u001b[39;49m\u001b[43m \u001b[49m\u001b[43mb\u001b[49m\n",
      "\u001b[0;31mTypeError\u001b[0m: can only concatenate str (not \"int\") to str"
     ]
    }
   ],
   "source": [
    "def add_numbers(a, b):\n",
    "    return a + b\n",
    "\n",
    "add_numbers(\"10\", 2)"
   ]
  },
  {
   "cell_type": "markdown",
   "id": "e9fe1a58-5741-4706-bcaf-69f50f07e6fa",
   "metadata": {},
   "source": [
    "## Example buggy code 2 "
   ]
  },
  {
   "cell_type": "code",
   "execution_count": 10,
   "id": "aa4ac5fa-83a9-41f5-8cbc-676abbf19614",
   "metadata": {},
   "outputs": [],
   "source": [
    "def find_maximum(numbers):\n",
    "    max_num = numbers[0]\n",
    "    for number in numbers:\n",
    "        if number > max_num:\n",
    "            max_num = number\n",
    "        else:\n",
    "            max_num = max_num \n",
    "    return max_num"
   ]
  },
  {
   "cell_type": "markdown",
   "id": "d061399a-f2f1-4ad3-af12-a598977b1a82",
   "metadata": {},
   "source": [
    "## Example buggy code 3"
   ]
  },
  {
   "cell_type": "code",
   "execution_count": 11,
   "id": "69e03414-a8e4-45be-aeda-d08617c4efb7",
   "metadata": {},
   "outputs": [],
   "source": [
    "def is_prime(n):\n",
    "    if n <= 1:\n",
    "        return False\n",
    "    for i in range(2, n):\n",
    "        if n % i == 0:\n",
    "            return False\n",
    "        else:\n",
    "            return True  # This line should not be here\n",
    "    return True"
   ]
  },
  {
   "cell_type": "markdown",
   "id": "5557ebf8-991d-403b-a3c3-69ca422a5348",
   "metadata": {},
   "source": [
    "## Numpy example"
   ]
  },
  {
   "cell_type": "code",
   "execution_count": 12,
   "id": "034c0a0d-c43b-4eed-b75e-b518ba3ce29f",
   "metadata": {},
   "outputs": [
    {
     "name": "stdout",
     "output_type": "stream",
     "text": [
      "[ 2  4  6  8 10]\n",
      "[14 32]\n"
     ]
    }
   ],
   "source": [
    "import numpy as np\n",
    "\n",
    "# Create a 1D array\n",
    "a = np.array([1, 2, 3, 4, 5])\n",
    "\n",
    "# Create a 2D array\n",
    "b = np.array([[1, 2, 3], [4, 5, 6]])\n",
    "\n",
    "# Array operations\n",
    "print(a * 2)  # [2 4 6 8 10]\n",
    "print(np.dot(b, a[:3]))  # [14 32]\n"
   ]
  },
  {
   "cell_type": "markdown",
   "id": "7dec05ec-59f6-4b54-9899-fb7b2a065188",
   "metadata": {},
   "source": [
    "# Matplotlib example "
   ]
  },
  {
   "cell_type": "code",
   "execution_count": 13,
   "id": "0b7d0a19-e53e-4e3d-b711-f7bb44188b41",
   "metadata": {},
   "outputs": [
    {
     "data": {
      "image/png": "[encoded data removed]",
      "text/plain": [
       "<Figure size 640x480 with 1 Axes>"
      ]
     },
     "metadata": {},
     "output_type": "display_data"
    }
   ],
   "source": [
    "import matplotlib.pyplot as plt\n",
    "# Data\n",
    "x = [1, 2, 3, 4, 5]\n",
    "y = [2, 3, 5, 7, 11]\n",
    "# Create a plot\n",
    "plt.plot(x, y)\n",
    "plt.title(\"Simple Plot\")\n",
    "plt.xlabel(\"X-axis\")\n",
    "plt.ylabel(\"Y-axis\")\n",
    "plt.show()\n"
   ]
  },
  {
   "cell_type": "markdown",
   "id": "0190d812-4af1-4a0d-9ee6-48d36a811c4e",
   "metadata": {},
   "source": [
    "## Pandas example"
   ]
  },
  {
   "cell_type": "code",
   "execution_count": 14,
   "id": "ab7eed22-fc1a-45ea-a67f-d0e9e9a11236",
   "metadata": {},
   "outputs": [
    {
     "name": "stdout",
     "output_type": "stream",
     "text": [
      "    Name  Age\n",
      "0   John   28\n",
      "1   Anna   24\n",
      "2  Peter   35\n",
      "3  Linda   32\n",
      "             Age\n",
      "count   4.000000\n",
      "mean   29.750000\n",
      "std     4.787136\n",
      "min    24.000000\n",
      "25%    27.000000\n",
      "50%    30.000000\n",
      "75%    32.750000\n",
      "max    35.000000\n"
     ]
    }
   ],
   "source": [
    "import pandas as pd\n",
    "\n",
    "# Create a DataFrame\n",
    "data = {'Name': ['John', 'Anna', 'Peter', 'Linda'],\n",
    "        'Age': [28, 24, 35, 32]}\n",
    "df = pd.DataFrame(data)\n",
    "\n",
    "# DataFrame operations\n",
    "print(df.head())\n",
    "print(df.describe())\n"
   ]
  },
  {
   "cell_type": "markdown",
   "id": "0d048da8-9a4c-4cc8-a589-bd615b4ffa80",
   "metadata": {},
   "source": [
    "## Scikit-learn example"
   ]
  },
  {
   "cell_type": "code",
   "execution_count": 16,
   "id": "e6b9f1cb-9a12-4028-94d4-68a964874253",
   "metadata": {},
   "outputs": [
    {
     "name": "stdout",
     "output_type": "stream",
     "text": [
      "Accuracy: 0.9333333333333333\n"
     ]
    }
   ],
   "source": [
    "from sklearn import datasets\n",
    "from sklearn.model_selection import train_test_split\n",
    "from sklearn.neighbors import KNeighborsClassifier\n",
    "from sklearn.metrics import accuracy_score\n",
    "\n",
    "# Load dataset\n",
    "iris = datasets.load_iris()\n",
    "X = iris.data\n",
    "y = iris.target\n",
    "\n",
    "# Split dataset\n",
    "X_train, X_test, y_train, y_test = train_test_split(X, y, test_size=0.3)\n",
    "\n",
    "# Train model\n",
    "knn = KNeighborsClassifier(n_neighbors=3)\n",
    "knn.fit(X_train, y_train)\n",
    "\n",
    "# Predict and evaluate\n",
    "y_pred = knn.predict(X_test)\n",
    "print(\"Accuracy:\", accuracy_score(y_test, y_pred))\n"
   ]
  },
  {
   "cell_type": "code",
   "execution_count": null,
   "id": "c918bdcb-3c42-4d54-8489-431c67dc7843",
   "metadata": {},
   "outputs": [],
   "source": []
  }
 ],
 "metadata": {
  "kernelspec": {
   "display_name": "Python 3 (ipykernel)",
   "language": "python",
   "name": "python3"
  },
  "language_info": {
   "codemirror_mode": {
    "name": "ipython",
    "version": 3
   },
   "file_extension": ".py",
   "mimetype": "text/x-python",
   "name": "python",
   "nbconvert_exporter": "python",
   "pygments_lexer": "ipython3",
   "version": "3.8.19"
  }
 },
 "nbformat": 4,
 "nbformat_minor": 5
}
