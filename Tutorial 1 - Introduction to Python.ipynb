{
 "cells": [
  {
   "cell_type": "markdown",
   "id": "3bcf3a87",
   "metadata": {},
   "source": [
    "# Tutorial 1: Introduction to Python\n",
    "\n",
    "### Developed by Cristiana Tisca with examples taken from the Wellcome Centre for Integrative Neuroimaging PyTreat course: https://git.fmrib.ox.ac.uk/fsl/win-pytreat/.\n",
    "\n",
    "This tutorial aims to give you an overview of the Python Programming language.\n",
    "\n",
    "It assumes that you have the following installed on your computer:\n",
    "- Python version 3.0.0 or up\n",
    "\n",
    "And the following python libraries:\n",
    "- jupyter \n",
    "- numpy\n",
    "\n",
    "All of the code can be run on your own machines. All of the following code blocks can be run by clicking **SHIFT+ENTER**. You can also edit each individual bloc. \n",
    "\n",
    "You can get help on any Python object, function, or method by putting a `?`\n",
    "before or after the thing you want help on:"
   ]
  },
  {
   "cell_type": "code",
   "execution_count": null,
   "id": "6c3c0927",
   "metadata": {},
   "outputs": [],
   "source": [
    "a = 'hello!'\n",
    "?a.upper"
   ]
  },
  {
   "cell_type": "code",
   "execution_count": null,
   "id": "121b4a8e",
   "metadata": {},
   "outputs": [],
   "source": [
    "# Put the cursor after the dot, and press the TAB key...\n",
    "a."
   ]
  },
  {
   "cell_type": "markdown",
   "id": "0c858d08",
   "metadata": {},
   "source": [
    "# Variables and basic types\n",
    "\n",
    "## Integer and floating point scalars"
   ]
  },
  {
   "cell_type": "code",
   "execution_count": null,
   "id": "39c8b806",
   "metadata": {},
   "outputs": [],
   "source": [
    "a = 7\n",
    "b = 1 / 3\n",
    "c = a + b\n",
    "print('a:     ', a)\n",
    "print('b:     ', b)\n",
    "print('c:     ', c)\n",
    "print(f'b:     {b:0.4f}')\n",
    "print('a + b: ', a + b)"
   ]
  },
  {
   "cell_type": "markdown",
   "id": "99d38dba",
   "metadata": {},
   "source": [
    "## Strings "
   ]
  },
  {
   "cell_type": "code",
   "execution_count": null,
   "id": "69fea260",
   "metadata": {},
   "outputs": [],
   "source": [
    "a = 'Hello'\n",
    "b = \"Kitty\"\n",
    "c = \"\"\"\n",
    "Magic\n",
    "multi-line\n",
    "strings!\n",
    "\"\"\"\n",
    "\n",
    "print(a, b)\n",
    "print(a + b)\n",
    "print(f'{a}, {b}!')\n",
    "print(c)"
   ]
  },
  {
   "cell_type": "markdown",
   "id": "2383a454",
   "metadata": {},
   "source": [
    "### Methods for strings\n",
    "\n",
    "Have a look at the following examples of methods to manipulate strings. Make sure you understand what each \n",
    "method does. If anything is unclear, please ask.\n",
    "\n",
    "Example 1:"
   ]
  },
  {
   "cell_type": "code",
   "execution_count": 1,
   "id": "8e6eb398",
   "metadata": {},
   "outputs": [
    {
     "name": "stdout",
     "output_type": "stream",
     "text": [
      "THIS IS A TEST STRING\n",
      "this is a test string\n"
     ]
    }
   ],
   "source": [
    "s = 'This is a Test String'\n",
    "print(s.upper())\n",
    "print(s.lower())"
   ]
  },
  {
   "cell_type": "markdown",
   "id": "0f8dc15a",
   "metadata": {},
   "source": [
    "Example 2:"
   ]
  },
  {
   "cell_type": "code",
   "execution_count": null,
   "id": "16444108",
   "metadata": {},
   "outputs": [],
   "source": [
    "s = 'This is a Test String'\n",
    "s2 = s.replace('Test', 'Better')\n",
    "print(s2)"
   ]
  },
  {
   "cell_type": "markdown",
   "id": "16a50dd4",
   "metadata": {},
   "source": [
    "Example 3:"
   ]
  },
  {
   "cell_type": "code",
   "execution_count": null,
   "id": "8b5bf06e",
   "metadata": {},
   "outputs": [],
   "source": [
    "s2 = '   A very    spacy   string       '\n",
    "print('*' + s2 + '*')\n",
    "print('*' + s2.strip() + '*')"
   ]
  },
  {
   "cell_type": "markdown",
   "id": "14b5dfd8",
   "metadata": {},
   "source": [
    "Example 4:"
   ]
  },
  {
   "cell_type": "code",
   "execution_count": null,
   "id": "86cfa8e0",
   "metadata": {},
   "outputs": [],
   "source": [
    "print(s.split())\n",
    "print(s2.split())"
   ]
  },
  {
   "cell_type": "markdown",
   "id": "5eb02d7e",
   "metadata": {},
   "source": [
    "Example 5:"
   ]
  },
  {
   "cell_type": "code",
   "execution_count": null,
   "id": "ef36a4aa",
   "metadata": {},
   "outputs": [],
   "source": [
    "data = ' 1,2,3,4,5,6,7 '\n",
    "print(f'Original:              {data}')\n",
    "print('Strip, split, and join:', ' '.join(data.strip().split(',')))"
   ]
  },
  {
   "cell_type": "markdown",
   "id": "fec0d535",
   "metadata": {},
   "source": [
    "## Lists and tuples\n",
    "\n",
    "\n",
    "Tuples are defined using round brackets and lists are defined using square\n",
    "brackets. "
   ]
  },
  {
   "cell_type": "code",
   "execution_count": null,
   "id": "44f13b5c",
   "metadata": {},
   "outputs": [],
   "source": [
    "t = (3, 7.6, 'str')\n",
    "l = [1, 'mj', -5.4]\n",
    "print(t)\n",
    "print(l)\n",
    "\n",
    "t2 = (t, l)\n",
    "l2 = [t, l]\n",
    "print('t2 is: ', t2)\n",
    "print('l3 is: ', l2)\n",
    "print(len(t2))\n",
    "print(len(l2))"
   ]
  },
  {
   "cell_type": "markdown",
   "id": "365621bc",
   "metadata": {},
   "source": [
    "The key difference between lists and tuples is that tuples are *immutable*\n",
    "(once created, they cannot be changed), whereas lists are *mutable*:"
   ]
  },
  {
   "cell_type": "code",
   "execution_count": null,
   "id": "e22c2f25",
   "metadata": {},
   "outputs": [],
   "source": [
    "a = [10, 20, 30]\n",
    "a[2] = 999\n",
    "print(a)"
   ]
  },
  {
   "cell_type": "markdown",
   "id": "ad88a8e2",
   "metadata": {},
   "source": [
    "Square brackets are used to index tuples, lists, strings, dictionaries, etc.\n",
    "For example:"
   ]
  },
  {
   "cell_type": "code",
   "execution_count": null,
   "id": "99a2427b",
   "metadata": {},
   "outputs": [],
   "source": [
    "d = [10, 20, 30]\n",
    "print(d[1])"
   ]
  },
  {
   "cell_type": "markdown",
   "id": "74e3cfe0",
   "metadata": {},
   "source": [
    "**Important note**: Python uses zero-based indexing, indices start from zero"
   ]
  },
  {
   "cell_type": "code",
   "execution_count": null,
   "id": "bd11bb57",
   "metadata": {},
   "outputs": [],
   "source": [
    "a = [10, 20, 30, 40, 50, 60]\n",
    "print(a[0])\n",
    "print(a[2])"
   ]
  },
  {
   "cell_type": "markdown",
   "id": "1b12021f",
   "metadata": {},
   "source": [
    "A range of values for the indices can be specified to extract values from a\n",
    "list or tuple using the `:` character.  For example:"
   ]
  },
  {
   "cell_type": "code",
   "execution_count": null,
   "id": "54bc3bb8",
   "metadata": {},
   "outputs": [],
   "source": [
    "print(a[0:3])"
   ]
  },
  {
   "cell_type": "markdown",
   "id": "7fbd76d9",
   "metadata": {},
   "source": [
    "When slicing a list or tuple, you can leave the start and end values out -\n",
    "when you do this, Python will assume that you want to start slicing from the\n",
    "beginning or the end of the list.  For example:"
   ]
  },
  {
   "cell_type": "code",
   "execution_count": null,
   "id": "276613ee",
   "metadata": {},
   "outputs": [],
   "source": [
    "print(a[:3])\n",
    "print(a[1:])\n",
    "print(a[:])\n",
    "print(a[:-1])"
   ]
  },
  {
   "cell_type": "markdown",
   "id": "7f9425a0",
   "metadata": {},
   "source": [
    "You can also change the step size."
   ]
  },
  {
   "cell_type": "code",
   "execution_count": null,
   "id": "300d24c3",
   "metadata": {},
   "outputs": [],
   "source": [
    "print(a[0:4:2])\n",
    "print(a[::2])\n",
    "print(a[::-1])"
   ]
  },
  {
   "cell_type": "markdown",
   "id": "c4ecc7a0",
   "metadata": {},
   "source": [
    "Some methods are available on `list` objects for adding and removing items:"
   ]
  },
  {
   "cell_type": "code",
   "execution_count": null,
   "id": "2d511ab1",
   "metadata": {},
   "outputs": [],
   "source": [
    "print(d)\n",
    "d.append(40)\n",
    "print(d)\n",
    "d.extend([50, 60])\n",
    "print(d)\n",
    "d = d + [70, 80]\n",
    "print(d)\n",
    "d.remove(20)\n",
    "print(d)\n",
    "d.pop(0)\n",
    "print(d)"
   ]
  },
  {
   "cell_type": "markdown",
   "id": "ee2fe943",
   "metadata": {},
   "source": [
    "What will `d.append([50,60])` do, and how is it different from\n",
    "`d.extend([50,60])`?"
   ]
  },
  {
   "cell_type": "code",
   "execution_count": null,
   "id": "ae44ab59",
   "metadata": {},
   "outputs": [],
   "source": [
    "d.append([50, 60])\n",
    "print(d)"
   ]
  },
  {
   "cell_type": "markdown",
   "id": "0768988a",
   "metadata": {},
   "source": [
    "## Dictionaries\n",
    "\n",
    "\n",
    "Dictionaries (or *dicts*) can be used to store key-value pairs. Almost\n",
    "anything can used as a key, and anything can be stored as a value; it is\n",
    "common to use strings as keys:"
   ]
  },
  {
   "cell_type": "code",
   "execution_count": null,
   "id": "269d4971",
   "metadata": {},
   "outputs": [],
   "source": [
    "e = {'a' : 10, 'b': 20}\n",
    "print(len(e))\n",
    "print(e.keys())\n",
    "print(e.values())\n",
    "print(e['a'])"
   ]
  },
  {
   "cell_type": "markdown",
   "id": "2445da11",
   "metadata": {},
   "source": [
    "Like lists (and unlike tuples), dicts are mutable, and have a number of\n",
    "methods for manipulating them:"
   ]
  },
  {
   "cell_type": "code",
   "execution_count": null,
   "id": "d704b3bc",
   "metadata": {},
   "outputs": [],
   "source": [
    "e['c'] = 30\n",
    "e.pop('a')\n",
    "e.update({'a' : 100, 'd' : 400})\n",
    "print(e)\n",
    "e.clear()\n",
    "print(e)"
   ]
  },
  {
   "cell_type": "markdown",
   "id": "7698ab28",
   "metadata": {},
   "source": [
    "### Mutability\n",
    "\n",
    "Python variables can refer to values which are either mutable, or\n",
    "immutable. Examples of immutable values are strings, tuples, and integer and\n",
    "floating point scalars. Examples of mutable values are lists, dicts, and most\n",
    "user-defined types.\n",
    "\n",
    "\n",
    "When you pass an immutable value around (e.g. into a function, or to another\n",
    "variable), it works the same as if you were to copy the value and pass in the\n",
    "copy - the original value is not changed:"
   ]
  },
  {
   "cell_type": "code",
   "execution_count": null,
   "id": "5cf83229",
   "metadata": {},
   "outputs": [],
   "source": [
    "a = 'abcde'\n",
    "b = a\n",
    "b = b.upper()\n",
    "print('a:', a)\n",
    "print('b:', b)"
   ]
  },
  {
   "cell_type": "markdown",
   "id": "874b40fc",
   "metadata": {},
   "source": [
    "In contrast, when you pass a mutable value around, you are passing a\n",
    "*reference* to that value - there is only ever one value in existence, but\n",
    "multiple variables refer to it. You can manipulate the value through any of\n",
    "the variables that refer to it:"
   ]
  },
  {
   "cell_type": "code",
   "execution_count": null,
   "id": "764491e6",
   "metadata": {},
   "outputs": [],
   "source": [
    "a = [1, 2, 3, 4, 5]\n",
    "b = a\n",
    "\n",
    "a[3] = 999\n",
    "b.append(6)\n",
    "\n",
    "print('a', a)\n",
    "print('b', b)"
   ]
  },
  {
   "cell_type": "markdown",
   "id": "655fa310",
   "metadata": {},
   "source": [
    "## Flow control\n",
    "Python also has a boolean type which can be either `True` or `False`. Most\n",
    "Python types can be implicitly converted into booleans when used in a\n",
    "conditional expression.\n",
    "\n",
    "\n",
    "Relevant boolean and comparison operators include: `not`, `and`, `or`, `==`\n",
    "and `!=`\n",
    "\n",
    "\n",
    "For example:"
   ]
  },
  {
   "cell_type": "code",
   "execution_count": null,
   "id": "e1dd51c5",
   "metadata": {},
   "outputs": [],
   "source": [
    "a = True\n",
    "b = False\n",
    "print('Not a is:', not a)\n",
    "print('a or b is:', a or b)\n",
    "print('a and b is:', a and b)\n",
    "print('Not 1 is:', not 1)\n",
    "print('Not 0 is:', not 0)\n",
    "print('Not {} is:', not {})\n",
    "print('{}==0 is:', {}==0)"
   ]
  },
  {
   "cell_type": "markdown",
   "id": "af2871bf",
   "metadata": {},
   "source": [
    " There is also the `in` test for strings, lists, etc:"
   ]
  },
  {
   "cell_type": "code",
   "execution_count": null,
   "id": "9c74841f",
   "metadata": {},
   "outputs": [],
   "source": [
    "print('the' in 'a number of words')\n",
    "print('of' in 'a number of words')\n",
    "print(3 in [1, 2, 3, 4])"
   ]
  },
  {
   "cell_type": "markdown",
   "id": "9b96541d",
   "metadata": {},
   "source": [
    "# Functions and control structures\n",
    "### If statement\n",
    "When you need to execute a block of code only if a particular condition is true, you can use the `if` statement. If the condition evaluates to false, the block of code is not executed.\n",
    "Example:"
   ]
  },
  {
   "cell_type": "code",
   "execution_count": null,
   "id": "6441cc67",
   "metadata": {},
   "outputs": [],
   "source": [
    "temperature = 15\n",
    "\n",
    "if temperature <= 25:\n",
    "    print(\"Bummer! We can't go swimming!\")\n",
    "\n",
    "  "
   ]
  },
  {
   "cell_type": "markdown",
   "id": "5226488c",
   "metadata": {},
   "source": [
    "### If-else statement\n",
    "The `if-else` statement allows you to execute one block of code if the condition is true, and a different block if the condition is false."
   ]
  },
  {
   "cell_type": "code",
   "execution_count": null,
   "id": "2abfa57b",
   "metadata": {},
   "outputs": [],
   "source": [
    "score = 15\n",
    "\n",
    "if score <= 25:\n",
    "    print(\"Bummer! We can't go swimming!\")\n",
    "else:\n",
    "    print(\"Yay! Let's go for a swim!\")\n",
    "\n",
    "  "
   ]
  },
  {
   "cell_type": "markdown",
   "id": "5909a1aa",
   "metadata": {},
   "source": [
    "### If-else-elif statement"
   ]
  },
  {
   "cell_type": "markdown",
   "id": "88625321",
   "metadata": {},
   "source": [
    "The `if-elif-else` statement is used when you have multiple conditions to check. It allows you to test multiple conditions and execute the corresponding block of code for the first true condition encountered."
   ]
  },
  {
   "cell_type": "code",
   "execution_count": null,
   "id": "3a8dc7d8",
   "metadata": {},
   "outputs": [],
   "source": [
    "score = 82\n",
    "\n",
    "if score >= 90:\n",
    "    print(\"Excellent! You got an A.\")\n",
    "elif score >= 80:\n",
    "    print(\"Good job! You got a B.\")\n",
    "elif score >= 70:\n",
    "    print(\"Not bad! You got a C.\")\n",
    "else:\n",
    "    print(\"You need to improve. You got an F.\")\n",
    "\n",
    "  "
   ]
  },
  {
   "cell_type": "markdown",
   "id": "6662875e",
   "metadata": {},
   "source": [
    "### Nested If Statements"
   ]
  },
  {
   "cell_type": "code",
   "execution_count": null,
   "id": "ebca4542",
   "metadata": {},
   "outputs": [],
   "source": [
    "name = \"Alice\"\n",
    "score = 78\n",
    "\n",
    "if name == \"Alice\":\n",
    "    if score >= 80:\n",
    "        print(\"Great job, Alice! You got an A.\")\n",
    "    else:\n",
    "        print(\"Good effort, Alice! Keep it up.\")\n",
    "else:\n",
    "    print(\"You're doing well, but this message is for Alice.\")"
   ]
  },
  {
   "cell_type": "markdown",
   "id": "3abf718b",
   "metadata": {},
   "source": [
    "### For loop\n",
    "In Python, the `for` loop provides a concise syntax to let us iterate over existing iterables. We can iterate over `student_names` list like so:\n",
    "\n"
   ]
  },
  {
   "cell_type": "code",
   "execution_count": null,
   "id": "ca385366",
   "metadata": {},
   "outputs": [],
   "source": [
    "student_names = [\"Alice\", \"Bob\", \"Charlie\", \"David\"]\n",
    "\n",
    "for name in student_names:\n",
    "    print(\"Student:\", name)"
   ]
  },
  {
   "cell_type": "markdown",
   "id": "73eeb954",
   "metadata": {},
   "source": [
    "### While loop\n",
    "If you want to execute a piece of code as long as a condition is true, you can use a `while` loop."
   ]
  },
  {
   "cell_type": "code",
   "execution_count": null,
   "id": "7b402544",
   "metadata": {},
   "outputs": [],
   "source": [
    "# Using a while loop with an existing iterable\n",
    "\n",
    "student_names = [\"Alice\", \"Bob\", \"Charlie\", \"David\"]\n",
    "index = 0\n",
    "\n",
    "while index < len(student_names):\n",
    "    print(\"Student:\", student_names[index])\n",
    "    index += 1"
   ]
  },
  {
   "cell_type": "markdown",
   "id": "abed90c4",
   "metadata": {},
   "source": [
    "### Loop Control Statements\n",
    "\n",
    " \n",
    "\n",
    "`break` exits the loop prematurely, and `continue` skips the rest of the current iteration and moves to the next one."
   ]
  },
  {
   "cell_type": "code",
   "execution_count": null,
   "id": "37007ca7",
   "metadata": {},
   "outputs": [],
   "source": [
    "student_names = [\"Alice\", \"Bob\", \"Charlie\", \"David\"]\n",
    "\n",
    "for name in student_names:\n",
    "    if name == \"Charlie\":\n",
    "        break\n",
    "    print(name)"
   ]
  },
  {
   "cell_type": "markdown",
   "id": "8a1f98b1",
   "metadata": {},
   "source": [
    "### A few more examples: \n",
    "We can use boolean values in `if`-`else` conditional expressions:"
   ]
  },
  {
   "cell_type": "code",
   "execution_count": null,
   "id": "86eb060f",
   "metadata": {},
   "outputs": [],
   "source": [
    "a = [1, 2, 3, 4]\n",
    "val = 3\n",
    "if val in a:\n",
    "    print(f'Found {val}!')\n",
    "else:\n",
    "    print(f'{val} not found :(')"
   ]
  },
  {
   "cell_type": "markdown",
   "id": "a39d9e6a",
   "metadata": {},
   "source": [
    "Note that the indentation in the `if`-`else` statement is **crucial**.\n",
    "**All** python control blocks are delineated purely by indentation. We\n",
    "recommend using **four spaces** and no tabs, as this is a standard practice\n",
    "and will help a lot when collaborating with others.\n",
    "\n",
    "\n",
    "You can use the `for` statement to loop over elements in a list:"
   ]
  },
  {
   "cell_type": "code",
   "execution_count": null,
   "id": "d27a1f5f",
   "metadata": {},
   "outputs": [],
   "source": [
    "d = [10, 20, 30]\n",
    "for x in d:\n",
    "    print(x)"
   ]
  },
  {
   "cell_type": "markdown",
   "id": "ea4cf900",
   "metadata": {},
   "source": [
    "You can also loop over the key-value pairs in a dict:"
   ]
  },
  {
   "cell_type": "code",
   "execution_count": null,
   "id": "b3f2faf2",
   "metadata": {},
   "outputs": [],
   "source": [
    "a = {'a' : 10, 'b' : 20, 'c' : 30}\n",
    "print('a.keys()')\n",
    "for key in a.keys():\n",
    "    print(key, a[key])\n",
    "print('a.values()')\n",
    "for val in a.values():\n",
    "    print(val)\n",
    "print('a.items()')\n",
    "for key, val in a.items():\n",
    "    print(key, val)"
   ]
  },
  {
   "cell_type": "markdown",
   "id": "c894f5eb",
   "metadata": {},
   "source": [
    "There are some handy built-in functions that you can use with `for` loops:"
   ]
  },
  {
   "cell_type": "code",
   "execution_count": null,
   "id": "df1143db",
   "metadata": {},
   "outputs": [],
   "source": [
    "d = [10, 20, 30]\n",
    "print('Using the range function')\n",
    "for i in range(len(d)):\n",
    "    print(f'element at position {i}: {d[i]}')\n",
    "\n",
    "print('Using the enumerate function')\n",
    "for i, elem in enumerate(d):\n",
    "    print(f'element at position {i}: {elem}')"
   ]
  },
  {
   "cell_type": "markdown",
   "id": "6d376c49",
   "metadata": {},
   "source": [
    "# List comprehensions\n",
    "Python has a really neat way to create lists (and dicts), called\n",
    "*comprehensions*. Let's say we have some strings, and we want to count the\n",
    "number of characters in each of them:"
   ]
  },
  {
   "cell_type": "code",
   "execution_count": null,
   "id": "1eaa0680",
   "metadata": {},
   "outputs": [],
   "source": [
    "strings = ['hello', 'howdy', 'hi', 'hey']\n",
    "nchars = [len(s) for s in strings]\n",
    "for s, c in zip(strings, nchars):\n",
    "    print(f'{s}: {c}')"
   ]
  },
  {
   "cell_type": "markdown",
   "id": "27573400",
   "metadata": {},
   "source": [
    "> The `zip` function \"zips\" two or more sequences, so you can loop over them\n",
    "> together.\n",
    "\n",
    "\n",
    "Or we could store the character counts in a dict:"
   ]
  },
  {
   "cell_type": "code",
   "execution_count": null,
   "id": "342d4f5c",
   "metadata": {},
   "outputs": [],
   "source": [
    "nchars = { s : len(s) for s in strings }\n",
    "\n",
    "for s, c in nchars.items():\n",
    "    print(f'{s}: {c}')"
   ]
  },
  {
   "cell_type": "markdown",
   "id": "2eaa0fde",
   "metadata": {},
   "source": [
    "## Copying and references\n",
    "In python there are immutable types (e.g. numbers) and mutable types (e.g. lists). The main thing to know is that assignment can sometimes create separate copies and sometimes create references (as in C++). In general, the more complicated types are assigned via references. For example:"
   ]
  },
  {
   "cell_type": "code",
   "execution_count": null,
   "id": "5aada6de",
   "metadata": {},
   "outputs": [],
   "source": [
    "a = 7\n",
    "b = a\n",
    "a = 2348\n",
    "print(b)"
   ]
  },
  {
   "cell_type": "markdown",
   "id": "e0e68b5a",
   "metadata": {},
   "source": [
    "As oposed to:"
   ]
  },
  {
   "cell_type": "code",
   "execution_count": null,
   "id": "7a39136a",
   "metadata": {},
   "outputs": [],
   "source": [
    "a = [7]\n",
    "b = a\n",
    "a[0] = 8888\n",
    "print(b)"
   ]
  },
  {
   "cell_type": "markdown",
   "id": "12587d7b",
   "metadata": {},
   "source": [
    "But if an operation is performed then a copy might be made:"
   ]
  },
  {
   "cell_type": "code",
   "execution_count": null,
   "id": "fd55412f",
   "metadata": {},
   "outputs": [],
   "source": [
    "a = [7]\n",
    "b = a * 2\n",
    "a[0] = 8888\n",
    "print(b)"
   ]
  },
  {
   "cell_type": "markdown",
   "id": "9a90e14a",
   "metadata": {},
   "source": [
    "If an explicit copy is necessary then this can be made using the `list()` constructor:"
   ]
  },
  {
   "cell_type": "code",
   "execution_count": null,
   "id": "df7410a0",
   "metadata": {},
   "outputs": [],
   "source": [
    "a = [7]\n",
    "b = list(a)\n",
    "a[0] = 8888\n",
    "print(b)"
   ]
  },
  {
   "cell_type": "markdown",
   "id": "09ad6c2d",
   "metadata": {},
   "source": [
    "There is a constructor for each type and this can be useful for converting between types:"
   ]
  },
  {
   "cell_type": "code",
   "execution_count": null,
   "id": "11e8889c",
   "metadata": {},
   "outputs": [],
   "source": [
    "xt = (2, 5, 7)\n",
    "xl = list(xt)\n",
    "print(xt)\n",
    "print(xl)"
   ]
  },
  {
   "cell_type": "markdown",
   "id": "19c335ec",
   "metadata": {},
   "source": [
    "# Reading and writing text files \n",
    "The syntax to open a file in python is\n",
    "\n",
    "> ```\n",
    "> with open(<filename>, <mode>) as <file_object>:\n",
    ">     <block of code>\n",
    "> ```\n",
    "\n",
    "* `<filename>` is a string with the name of the file\n",
    "* `<mode>` is one of `'r'` (for read-only access), `'w'` (for writing a file,\n",
    "  this wipes out any existing content), `'a'` (for appending to an existing\n",
    "  file).\n",
    "* `<file_object>` is a variable name which will be used within the\n",
    "  `<block of code>` to access the opened file.\n",
    "    \n",
    "You can write files like this:\n"
   ]
  },
  {
   "cell_type": "code",
   "execution_count": null,
   "id": "b0752503",
   "metadata": {},
   "outputs": [],
   "source": [
    "with open('new_file.txt', 'w') as f:\n",
    "    f.write('This is my first line\\n')\n",
    "    f.writelines(['Second line\\n', 'and the third\\n'])"
   ]
  },
  {
   "cell_type": "markdown",
   "id": "c9766a56",
   "metadata": {},
   "source": [
    "And read them like this:"
   ]
  },
  {
   "cell_type": "code",
   "execution_count": null,
   "id": "53cbaf16",
   "metadata": {},
   "outputs": [],
   "source": [
    "with open('new_file.txt', 'r') as f:\n",
    "    print(f.read())"
   ]
  },
  {
   "cell_type": "markdown",
   "id": "e095c9d0",
   "metadata": {},
   "source": [
    "## Functions "
   ]
  },
  {
   "cell_type": "markdown",
   "id": "99c1fcd0",
   "metadata": {},
   "source": [
    "Functions are a set of actions that we group together, and give a name to. You have already used a number of functions from the core Python language, such as string.title() and list.sort(). We can define our own functions, which allows us to \"teach\" Python new behavior.\n",
    "\n",
    "The general syntax for functions is:\n"
   ]
  },
  {
   "cell_type": "code",
   "execution_count": null,
   "id": "2c9eaee6",
   "metadata": {},
   "outputs": [],
   "source": [
    "# Let's define a function.\n",
    "def function_name(argument_1, argument_2):\n",
    "\t# Do whatever we want this function to do,\n",
    "\t#  using argument_1 and argument_2\n",
    "\n",
    "# Use function_name to call the function.\n",
    "function_name(value_1, value_2)"
   ]
  },
  {
   "cell_type": "markdown",
   "id": "8d06f201",
   "metadata": {},
   "source": [
    "This code will not run, but it shows how functions are used in general.\n",
    "\n",
    "Defining a function\n",
    "- Give the keyword `def`, which tells Python that you are about to define a function.\n",
    "- Give your function a name. A variable name tells you what kind of value the variable contains; a function name should tell you what the function does.\n",
    "- Give names for each value the function needs in order to do its work. These are basically variable names, but they are only used in the function.They can be different names than what you use in the rest of your program. These are called the function's arguments.\n",
    "- Make sure the function definition line ends with a colon.\n",
    "- Inside the function, write whatever code you need to make the function do its work.\n"
   ]
  },
  {
   "cell_type": "markdown",
   "id": "200c9203",
   "metadata": {},
   "source": [
    "Using your function\n",
    "- To call your function, write its name followed by parentheses.\n",
    "- Inside the parentheses, give the values you want the function to work with."
   ]
  },
  {
   "cell_type": "markdown",
   "id": "ac4a0da9",
   "metadata": {},
   "source": [
    "Example:"
   ]
  },
  {
   "cell_type": "code",
   "execution_count": null,
   "id": "6d828bbe",
   "metadata": {},
   "outputs": [],
   "source": [
    "def myfunc(x, y, z=0):\n",
    "    r2 = x*x + y*y + z*z\n",
    "    r = r2**0.5\n",
    "    return r,  r2\n",
    "\n",
    "rad = myfunc(10, 20)\n",
    "print(rad)\n",
    "rad, dummy = myfunc(10, 20, 30)\n",
    "print(rad)\n",
    "rad, _ = myfunc(10,20,30)\n",
    "print(rad)"
   ]
  },
  {
   "cell_type": "markdown",
   "id": "98ec929b",
   "metadata": {},
   "source": [
    "# Numpy\n",
    "Python's\n",
    "numerical computing library. Numpy adds a new data type to the Python\n",
    "language - the `array` (more specifically, the `ndarray`). A Numpy `array`\n",
    "is a N-dimensional array of homogeneously-typed numerical data.\n",
    "\n",
    "\n",
    "Pretty much every scientific computing library in Python is built on top of\n",
    "Numpy - whenever you want to access some data, you will be accessing it in the\n",
    "form of a Numpy array. So it is worth getting to know the basics."
   ]
  },
  {
   "cell_type": "code",
   "execution_count": 6,
   "id": "fd78c909",
   "metadata": {},
   "outputs": [
    {
     "name": "stdout",
     "output_type": "stream",
     "text": [
      "data:             [10  8 12 14  7  6 11]\n",
      "xyz_coords:       [[-11.4   1.   22.6]\n",
      " [ 22.7 -32.8  19.1]\n",
      " [ 62.8 -18.2 -34.5]]\n",
      "data.shape:       (7,)\n",
      "xyz_coords.shape: (3, 3)\n"
     ]
    }
   ],
   "source": [
    "import numpy as np\n",
    "\n",
    "data = np.array([10, 8, 12, 14, 7, 6, 11])\n",
    "\n",
    "xyz_coords = np.array([[-11.4,   1.0,  22.6],\n",
    "                       [ 22.7, -32.8,  19.1],\n",
    "                       [ 62.8, -18.2, -34.5]])\n",
    "print('data:            ', data)\n",
    "print('xyz_coords:      ', xyz_coords)\n",
    "print('data.shape:      ', data.shape)\n",
    "print('xyz_coords.shape:', xyz_coords.shape)"
   ]
  },
  {
   "cell_type": "markdown",
   "id": "adba1d4c",
   "metadata": {},
   "source": [
    "### Creating arrays"
   ]
  },
  {
   "cell_type": "code",
   "execution_count": 7,
   "id": "f8069ee8",
   "metadata": {},
   "outputs": [
    {
     "name": "stdout",
     "output_type": "stream",
     "text": [
      "np.zeros gives us zeros:                        [0. 0. 0. 0. 0.]\n",
      "np.ones gives us ones:                          [1. 1. 1. 1. 1.]\n",
      "np.arange gives us a range:                     [0 1 2 3 4]\n",
      "np.linspace gives us N linearly spaced numbers: [0.   0.25 0.5  0.75 1.  ]\n",
      "np.random.random gives us random numbers [0-1]: [0.57036129 0.60603892 0.63408493 0.59514676 0.90849115]\n",
      "np.random.randint gives us random integers:     [3 8 1 2 6]\n",
      "np.eye gives us an identity matrix:\n",
      "[[1. 0. 0. 0.]\n",
      " [0. 1. 0. 0.]\n",
      " [0. 0. 1. 0.]\n",
      " [0. 0. 0. 1.]]\n",
      "np.diag gives us a diagonal matrix:\n",
      "[[1 0 0 0]\n",
      " [0 2 0 0]\n",
      " [0 0 3 0]\n",
      " [0 0 0 4]]\n"
     ]
    }
   ],
   "source": [
    "print('np.zeros gives us zeros:                       ', np.zeros(5))\n",
    "print('np.ones gives us ones:                         ', np.ones(5))\n",
    "print('np.arange gives us a range:                    ', np.arange(5))\n",
    "print('np.linspace gives us N linearly spaced numbers:', np.linspace(0, 1, 5))\n",
    "print('np.random.random gives us random numbers [0-1]:', np.random.random(5))\n",
    "print('np.random.randint gives us random integers:    ', np.random.randint(1, 10, 5))\n",
    "print('np.eye gives us an identity matrix:')\n",
    "print(np.eye(4))\n",
    "print('np.diag gives us a diagonal matrix:')\n",
    "print(np.diag([1, 2, 3, 4]))"
   ]
  },
  {
   "cell_type": "markdown",
   "id": "abcaacf6",
   "metadata": {},
   "source": [
    "The `zeros` and `ones` functions can also be used to generate N-dimensional\n",
    "arrays:"
   ]
  },
  {
   "cell_type": "code",
   "execution_count": 8,
   "id": "5b9fd6da",
   "metadata": {},
   "outputs": [
    {
     "name": "stdout",
     "output_type": "stream",
     "text": [
      "[[0. 0. 0. 0.]\n",
      " [0. 0. 0. 0.]\n",
      " [0. 0. 0. 0.]]\n",
      "[[1. 1. 1. 1. 1. 1. 1. 1. 1. 1.]\n",
      " [1. 1. 1. 1. 1. 1. 1. 1. 1. 1.]]\n"
     ]
    }
   ],
   "source": [
    "z = np.zeros((3, 4))\n",
    "o = np.ones((2, 10))\n",
    "print(z)\n",
    "print(o)"
   ]
  },
  {
   "cell_type": "markdown",
   "id": "72a00499",
   "metadata": {},
   "source": [
    "### Array properties"
   ]
  },
  {
   "cell_type": "code",
   "execution_count": 9,
   "id": "dbf4baaf",
   "metadata": {},
   "outputs": [
    {
     "name": "stdout",
     "output_type": "stream",
     "text": [
      "[[[0. 0. 0. 0.]\n",
      "  [0. 0. 0. 0.]\n",
      "  [0. 0. 0. 0.]]\n",
      "\n",
      " [[0. 0. 0. 0.]\n",
      "  [0. 0. 0. 0.]\n",
      "  [0. 0. 0. 0.]]]\n",
      "Shape:                      (2, 3, 4)\n",
      "Number of dimensions:       3\n",
      "Number of elements:         24\n",
      "Data type:                  float64\n",
      "Number of bytes:            192\n",
      "Length of first dimension:  2\n"
     ]
    }
   ],
   "source": [
    "z = np.zeros((2, 3, 4))\n",
    "print(z)\n",
    "print('Shape:                     ', z.shape)\n",
    "print('Number of dimensions:      ', z.ndim)\n",
    "print('Number of elements:        ', z.size)\n",
    "print('Data type:                 ', z.dtype)\n",
    "print('Number of bytes:           ', z.nbytes)\n",
    "print('Length of first dimension: ', len(z))"
   ]
  },
  {
   "cell_type": "markdown",
   "id": "2a482286",
   "metadata": {},
   "source": [
    "### Descriptive statistics"
   ]
  },
  {
   "cell_type": "code",
   "execution_count": null,
   "id": "e6e37a41",
   "metadata": {},
   "outputs": [],
   "source": [
    "a = np.random.random(10)\n",
    "print('a: ', a)\n",
    "print('min:          ', a.min())\n",
    "print('max:          ', a.max())\n",
    "print('index of min: ', a.argmin())  # remember that in Python, list indices\n",
    "print('index of max: ', a.argmax())  # start from zero - Numpy is the same!\n",
    "print('mean:         ', a.mean())\n",
    "print('variance:     ', a.var())\n",
    "print('stddev:       ', a.std())\n",
    "print('sum:          ', a.sum())\n",
    "print('prod:         ', a.prod())"
   ]
  },
  {
   "cell_type": "markdown",
   "id": "31e71cee",
   "metadata": {},
   "source": [
    "### Mathematical operations"
   ]
  },
  {
   "cell_type": "code",
   "execution_count": null,
   "id": "0f2b93de",
   "metadata": {},
   "outputs": [],
   "source": [
    "a = np.arange(1, 10).reshape((3, 3))\n",
    "print('a:')\n",
    "print(a)\n",
    "print('a + 2:')\n",
    "print( a + 2)\n",
    "print('a * 3:')\n",
    "print( a * 3)\n",
    "print('a % 2:')\n",
    "print( a % 2)"
   ]
  },
  {
   "cell_type": "markdown",
   "id": "b954ff21",
   "metadata": {},
   "source": [
    "### Matrix multiplications"
   ]
  },
  {
   "cell_type": "code",
   "execution_count": null,
   "id": "5045f104",
   "metadata": {},
   "outputs": [],
   "source": [
    "a = np.arange(1, 5).reshape((2, 2))\n",
    "b = a.T\n",
    "\n",
    "print('a:')\n",
    "print(a)\n",
    "print('b:')\n",
    "print(b)\n",
    "\n",
    "print('a @ b')\n",
    "print(a @ b)\n",
    "\n",
    "print('a.dot(b)')\n",
    "print(a.dot(b))\n",
    "\n",
    "print('b.dot(a)')\n",
    "print(b.dot(a))"
   ]
  },
  {
   "cell_type": "markdown",
   "id": "7c9ad380",
   "metadata": {},
   "source": [
    "### Indexing multi-dimensional arrays\n",
    "\n",
    "\n",
    "Multi-dimensional array indexing works in much the same way as one-dimensional\n",
    "indexing but with more dimensions. Use commas within the square\n",
    "brackets to separate the slices for each dimension:"
   ]
  },
  {
   "cell_type": "code",
   "execution_count": 10,
   "id": "7ef49969",
   "metadata": {},
   "outputs": [
    {
     "name": "stdout",
     "output_type": "stream",
     "text": [
      "a:\n",
      "[[ 0  1  2  3  4]\n",
      " [ 5  6  7  8  9]\n",
      " [10 11 12 13 14]\n",
      " [15 16 17 18 19]\n",
      " [20 21 22 23 24]]\n",
      " First row:      [0 1 2 3 4]\n",
      " Last row:       [20 21 22 23 24]\n",
      " second column:  [ 1  6 11 16 21]\n",
      " Centre:\n",
      "[[ 6  7  8]\n",
      " [11 12 13]\n",
      " [16 17 18]]\n"
     ]
    }
   ],
   "source": [
    "a = np.arange(25).reshape((5, 5))\n",
    "print('a:')\n",
    "print(a)\n",
    "print(' First row:     ', a[  0, :])\n",
    "print(' Last row:      ', a[ -1, :])\n",
    "print(' second column: ', a[  :, 1])\n",
    "print(' Centre:')\n",
    "print(a[1:4, 1:4])"
   ]
  },
  {
   "cell_type": "markdown",
   "id": "eb908ffb",
   "metadata": {},
   "source": [
    "## File management\n",
    "\n",
    "In this section we will introduce you to file management - how do we find and\n",
    "manage files, directories and paths in Python?"
   ]
  },
  {
   "cell_type": "markdown",
   "id": "95b94fb0",
   "metadata": {},
   "source": [
    "## Managing files and directories\n",
    "\n",
    "\n",
    "The `os` module contains functions for querying and changing the current\n",
    "working directory, moving and removing individual files, and for listing,\n",
    "creating, removing, and traversing directories."
   ]
  },
  {
   "cell_type": "code",
   "execution_count": 11,
   "id": "3ccd8725",
   "metadata": {},
   "outputs": [],
   "source": [
    "import os\n",
    "import os.path as op"
   ]
  },
  {
   "cell_type": "markdown",
   "id": "01822245",
   "metadata": {},
   "source": [
    "### Querying and changing the current directory\n",
    "\n",
    "\n",
    "You can query and change the current directory with the `os.getcwd` and\n",
    "`os.chdir` functions.\n",
    "\n"
   ]
  },
  {
   "cell_type": "code",
   "execution_count": 12,
   "id": "d527700d",
   "metadata": {},
   "outputs": [
    {
     "name": "stdout",
     "output_type": "stream",
     "text": [
      "Current directory: C:\\Users\\Titus\\PycharmProjects\\oxfordml\n",
      "Changed to: C:\\Users\\Titus\n",
      "Changed back to: C:\\Users\\Titus\\PycharmProjects\\oxfordml\n"
     ]
    }
   ],
   "source": [
    "cwd = os.getcwd()\n",
    "print(f'Current directory: {cwd}')\n",
    "\n",
    "os.chdir(op.expanduser('~'))\n",
    "print(f'Changed to: {os.getcwd()}')\n",
    "\n",
    "os.chdir(cwd)\n",
    "print(f'Changed back to: {cwd}')"
   ]
  },
  {
   "cell_type": "markdown",
   "id": "7b818b2e",
   "metadata": {},
   "source": [
    "\n",
    "Use the `os.listdir` function to get a directory listing (a.k.a. the Unix `ls`\n",
    "command):"
   ]
  },
  {
   "cell_type": "code",
   "execution_count": 14,
   "id": "33234017",
   "metadata": {},
   "outputs": [
    {
     "name": "stdout",
     "output_type": "stream",
     "text": [
      "Directory listing: C:\\Users\\Titus\\PycharmProjects\\oxfordml\n",
      ".idea\n",
      ".ipynb_checkpoints\n",
      ".venv\n",
      "pp10.py\n",
      "Tutorial 1 - Introduction to Python.ipynb\n",
      "\n"
     ]
    },
    {
     "ename": "FileNotFoundError",
     "evalue": "[WinError 3] The system cannot find the path specified: 'raw_mri_data'",
     "output_type": "error",
     "traceback": [
      "\u001b[1;31m---------------------------------------------------------------------------\u001b[0m",
      "\u001b[1;31mFileNotFoundError\u001b[0m                         Traceback (most recent call last)",
      "Cell \u001b[1;32mIn[14], line 8\u001b[0m\n\u001b[0;32m      5\u001b[0m \u001b[38;5;28mprint\u001b[39m()\n\u001b[0;32m      7\u001b[0m datadir \u001b[38;5;241m=\u001b[39m \u001b[38;5;124m'\u001b[39m\u001b[38;5;124mraw_mri_data\u001b[39m\u001b[38;5;124m'\u001b[39m\n\u001b[1;32m----> 8\u001b[0m listing \u001b[38;5;241m=\u001b[39m \u001b[43mos\u001b[49m\u001b[38;5;241;43m.\u001b[39;49m\u001b[43mlistdir\u001b[49m\u001b[43m(\u001b[49m\u001b[43mdatadir\u001b[49m\u001b[43m)\u001b[49m\n\u001b[0;32m      9\u001b[0m \u001b[38;5;28mprint\u001b[39m(\u001b[38;5;124mf\u001b[39m\u001b[38;5;124m'\u001b[39m\u001b[38;5;124mDirectory listing: \u001b[39m\u001b[38;5;132;01m{\u001b[39;00mdatadir\u001b[38;5;132;01m}\u001b[39;00m\u001b[38;5;124m'\u001b[39m)\n\u001b[0;32m     10\u001b[0m \u001b[38;5;28mprint\u001b[39m(\u001b[38;5;124m'\u001b[39m\u001b[38;5;130;01m\\n\u001b[39;00m\u001b[38;5;124m'\u001b[39m\u001b[38;5;241m.\u001b[39mjoin(listing))\n",
      "\u001b[1;31mFileNotFoundError\u001b[0m: [WinError 3] The system cannot find the path specified: 'raw_mri_data'"
     ]
    }
   ],
   "source": [
    "cwd = os.getcwd()\n",
    "listing = os.listdir(cwd)\n",
    "print(f'Directory listing: {cwd}')\n",
    "print('\\n'.join(listing))\n",
    "print()\n",
    "\n",
    "datadir = 'raw_mri_data'\n",
    "listing = os.listdir(datadir)\n",
    "print(f'Directory listing: {datadir}')\n",
    "print('\\n'.join(listing))"
   ]
  },
  {
   "cell_type": "markdown",
   "id": "459b02da",
   "metadata": {},
   "source": [
    "You can, not surprisingly, use the `os.mkdir` function to make a\n",
    "directory. The `os.makedirs` function is also handy - it is equivalent to\n",
    "`mkdir -p` in Unix:"
   ]
  },
  {
   "cell_type": "code",
   "execution_count": 15,
   "id": "41e55a2a",
   "metadata": {},
   "outputs": [
    {
     "name": "stdout",
     "output_type": "stream",
     "text": [
      "['.idea', '.ipynb_checkpoints', '.venv', 'pp10.py', 'Tutorial 1 - Introduction to Python.ipynb']\n",
      "['.idea', '.ipynb_checkpoints', '.venv', 'a', 'onedir', 'pp10.py', 'Tutorial 1 - Introduction to Python.ipynb']\n"
     ]
    }
   ],
   "source": [
    "print(os.listdir('.'))\n",
    "os.mkdir('onedir')\n",
    "os.makedirs('a/big/tree/of/directories')\n",
    "print(os.listdir('.'))"
   ]
  },
  {
   "cell_type": "code",
   "execution_count": null,
   "id": "76f67ca2-17fb-4e13-9685-0093c6cc7a02",
   "metadata": {},
   "outputs": [],
   "source": []
  }
 ],
 "metadata": {
  "kernelspec": {
   "display_name": "Python 3 (ipykernel)",
   "language": "python",
   "name": "python3"
  },
  "language_info": {
   "codemirror_mode": {
    "name": "ipython",
    "version": 3
   },
   "file_extension": ".py",
   "mimetype": "text/x-python",
   "name": "python",
   "nbconvert_exporter": "python",
   "pygments_lexer": "ipython3",
   "version": "3.10.4"
  }
 },
 "nbformat": 4,
 "nbformat_minor": 5
}
